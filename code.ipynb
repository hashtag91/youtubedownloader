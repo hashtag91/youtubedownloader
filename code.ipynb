{
 "cells": [
  {
   "cell_type": "markdown",
   "id": "0c50b73e-b3a5-419d-941f-ec29200d141a",
   "metadata": {},
   "source": [
    "<h1>Telecharger une playlist youtube avec python</h1>"
   ]
  },
  {
   "cell_type": "markdown",
   "id": "57a18fa9-f4fa-4960-bf73-5da229d317ef",
   "metadata": {},
   "source": [
    "<h3>1. Installer le package yt_dlp</h3>"
   ]
  },
  {
   "cell_type": "markdown",
   "id": "0f056adb-8bad-4d6b-b0e4-0c63ef85490c",
   "metadata": {},
   "source": [
    "<h4>Commande: <i>\" pip install yt_dlp \"</i></h4>"
   ]
  },
  {
   "cell_type": "code",
   "execution_count": null,
   "id": "632a0f03-7761-4557-a69f-fbd4f942de56",
   "metadata": {},
   "outputs": [],
   "source": [
    "import yt_dlp\n",
    "\n",
    "video_url = input(\"Url de la video ou playlist: \")\n",
    "\n",
    "# Les options pour personnaliser le telechargement\n",
    "ydl_opts = {\n",
    "    'format': 'best',  # Téléchargez la meilleure qualité disponible (vidéo + audio)\n",
    "    'outtmpl': 'downloads/videos/%(title)s.%(ext)s',  # Spécifier le chemin de destination avec aussi le nom de la video\n",
    "                                                # %(title)s permet d'utiliser le titre de la video comme nom du fichier\n",
    "                                                # %(exit)s permet d'utiliser l'extension de la video\n",
    "    'noplaylist': False,  # True pour dire qu'il ne s'agit pas un playlist | False c'est un playlist\n",
    "    'quiet': False,  # True pour ne pas afficher la progression du telechargement\n",
    "                    # False pour afficher la progression du telechargement\n",
    "}\n",
    "# Utiliser yt_dlp pour telecharger la video\n",
    "with yt_dlp.YoutubeDL(ydl_opts) as ydl:\n",
    "    ydl.download([video_url])\n",
    "\n",
    "print(\"Download completed!\")"
   ]
  }
 ],
 "metadata": {
  "kernelspec": {
   "display_name": "Python 3 (ipykernel)",
   "language": "python",
   "name": "python3"
  },
  "language_info": {
   "codemirror_mode": {
    "name": "ipython",
    "version": 3
   },
   "file_extension": ".py",
   "mimetype": "text/x-python",
   "name": "python",
   "nbconvert_exporter": "python",
   "pygments_lexer": "ipython3",
   "version": "3.11.9"
  }
 },
 "nbformat": 4,
 "nbformat_minor": 5
}
