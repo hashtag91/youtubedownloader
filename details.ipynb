{
 "cells": [
  {
   "cell_type": "markdown",
   "id": "e1e24db2-c81b-4ac9-a20d-e71c2e154a0d",
   "metadata": {},
   "source": [
    "# Liste complète des options de `yt-dlp` en français\""
   ]
  },
  {
   "cell_type": "markdown",
   "id": "7241b929-664b-453f-857e-4a0f62e3212b",
   "metadata": {},
   "source": [
    "Ce notebook présente une liste complète des options disponibles dans `yt-dlp`, un outil puissant pour télécharger des vidéos et de l'audio depuis YouTube et d'autres plateformes. Les options sont expliquées en français pour une meilleure compréhension.\n",
    "\n",
    "## Structure des options\n",
    "Les options de `yt-dlp` sont organisées par catégories et peuvent être utilisées pour :\n",
    "- Spécifier le format vidéo/audio à télécharger\n",
    "- Personnaliser l'emplacement et le nom des fichiers de sortie\n",
    "- Régler la qualité de la vidéo/audio\n",
    "- Utiliser des fonctionnalités avancées comme la gestion des playlists, sous-titres, etc."
   ]
  },
  {
   "cell_type": "code",
   "execution_count": null,
   "id": "b72e7bb9-dd40-462c-a862-cac7c8064303",
   "metadata": {},
   "outputs": [],
   "source": [
    "# Exemple de configuration de `yt-dlp` avec quelques options basiques\n",
    "import yt_dlp\n",
    "\n",
    "ydl_opts = {\n",
    "    'format': 'best',  # Télécharger la meilleure qualité disponible (vidéo + audio)\n",
    "    'outtmpl': 'downloads/%(title)s.%(ext)s',  # Chemin et nom de fichier de sortie\n",
    "    'noplaylist': True,  # Ne pas télécharger toute la playlist\n",
    "    'quiet': False,  # Voir les messages de progression\n",
    "}\n",
    "\n",
    "# Lancer le téléchargement\n",
    "with yt_dlp.YoutubeDL(ydl_opts) as ydl:\n",
    "    ydl.download(['https://www.youtube.com/watch?v=example'])"
   ]
  },
  {
   "cell_type": "markdown",
   "id": "ed58631b-ea7f-49d1-b3e0-f87430bae4c7",
   "metadata": {},
   "source": [
    "## Options principales de `yt-dlp`\n",
    "\n",
    "Voici une liste des principales options utilisables avec `yt-dlp`, classées par catégories. Ces options peuvent être passées dans un dictionnaire Python comme dans l'exemple ci-dessus.\n",
    "\n",
    "### 1. Options de format vidéo/audio\n",
    "- `'format'`: Spécifie le format à télécharger.\n",
    "    - **Exemples** :\n",
    "        - `'best'` : Meilleure qualité vidéo et audio.\n",
    "        - `'bestaudio'` : Télécharger uniquement l'audio.\n",
    "        - `'bestvideo'` : Télécharger uniquement la vidéo (sans audio).\n",
    "        - `'worst'` : Télécharger la qualité la plus basse disponible.\n",
    "        - `'best[height<=720]'` : Limiter la résolution vidéo à 720p ou moins.\n",
    "        - `'bestaudio[ext=m4a]'` : Télécharger la meilleure qualité audio en format M4A.\n",
    "\n",
    "### 2. Options de sortie de fichier\n",
    "- `'outtmpl'`: Définir le modèle de nom de fichier de sortie.\n",
    "    - **Exemples** :\n",
    "        - `'%(title)s.%(ext)s'` : Nommer le fichier avec le titre de la vidéo.\n",
    "        - `'downloads/%(title)s.%(ext)s'` : Enregistrer dans un répertoire spécifique.\n",
    "        - `'%(title)s.%(ext)s'` : Spécifier une extension de fichier.\n",
    "        \n",
    "### 3. Options de sous-titres\n",
    "- `'writeautomaticsub'`: Télécharge les sous-titres générés automatiquement.\n",
    "- `'subtitleslangs'`: Spécifie les langues des sous-titres à télécharger.\n",
    "    - **Exemple** : `'subtitleslangs': ['fr', 'en']` pour télécharger les sous-titres en français et anglais.\n",
    "\n",
    "### 4. Options de playlist\n",
    "- `'noplaylist'`: Ne pas télécharger toute la playlist si l'URL pointe vers une playlist.\n",
    "- `'playliststart'`: Spécifie le point de départ de la playlist.\n",
    "- `'playlistend'`: Spécifie où arrêter le téléchargement dans la playlist.\n",
    "- `'playlist_items'`: Télécharge uniquement certains éléments d'une playlist (ex. `'playlist_items': '1-5,7'` pour télécharger les vidéos 1 à 5 et la 7e).\n",
    "\n",
    "### 5. Options avancées\n",
    "- `'merge_output_format'`: Spécifie le format de sortie après fusion de la vidéo et de l'audio.\n",
    "    - **Exemple** : `'merge_output_format': 'mp4'`\n",
    "- `'quiet'`: Masque les messages de progression.\n",
    "- `'no_warnings'`: Ne montre pas les avertissements.\n",
    "\n",
    "### 6. Options de téléchargement audio seulement\n",
    "- `'extractaudio'`: Extraire uniquement l'audio.\n",
    "- `'audioformat'`: Spécifie le format audio (mp3, aac, etc.)."
   ]
  },
  {
   "cell_type": "code",
   "execution_count": null,
   "id": "8f722f36-8b93-4b23-af70-0a603636ebbe",
   "metadata": {},
   "outputs": [],
   "source": [
    "# Exemple de configuration pour télécharger uniquement l'audio en MP3 avec sous-titres en français\n",
    "\n",
    "ydl_opts = {\n",
    "    'format': 'bestaudio/best',\n",
    "    'extractaudio': True,  # Extraire uniquement l'audio\n",
    "    'audioformat': 'mp3',  # Convertir en MP3\n",
    "    'outtmpl': 'downloads/%(title)s.%(ext)s',  # Modèle de nom de fichier\n",
    "    'writesubtitles': True,  # Télécharger les sous-titres\n",
    "    'subtitleslangs': ['fr'],  # Sous-titres en français\n",
    "    'quiet': False  # Voir la progression\n",
    "}\n",
    "\n",
    "# Lancer le téléchargement\n",
    "with yt_dlp.YoutubeDL(ydl_opts) as ydl:\n",
    "    ydl.download(['https://www.youtube.com/watch?v=example'])"
   ]
  },
  {
   "cell_type": "code",
   "execution_count": null,
   "id": "1f3d3a16-acdb-49fa-9583-ee47e8cf1539",
   "metadata": {},
   "outputs": [],
   "source": [
    "# Save the notebook to a file\n",
    "with open(\"/mnt/data/yt_dlp_options_fr.ipynb\", 'w') as f:\n",
    "    nbf.write(nb, f)\n",
    "\n",
    "\"/mnt/data/yt_dlp_options_fr.ipynb\"\n"
   ]
  }
 ],
 "metadata": {
  "kernelspec": {
   "display_name": "Python 3 (ipykernel)",
   "language": "python",
   "name": "python3"
  },
  "language_info": {
   "codemirror_mode": {
    "name": "ipython",
    "version": 3
   },
   "file_extension": ".py",
   "mimetype": "text/x-python",
   "name": "python",
   "nbconvert_exporter": "python",
   "pygments_lexer": "ipython3",
   "version": "3.11.9"
  }
 },
 "nbformat": 4,
 "nbformat_minor": 5
}
